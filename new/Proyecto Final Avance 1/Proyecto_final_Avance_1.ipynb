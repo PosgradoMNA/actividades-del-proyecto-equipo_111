{
  "nbformat": 4,
  "nbformat_minor": 0,
  "metadata": {
    "colab": {
      "provenance": [],
      "authorship_tag": "ABX9TyPG9wh0gmxKKAfv0xFBXbrn",
      "include_colab_link": true
    },
    "kernelspec": {
      "name": "python3",
      "display_name": "Python 3"
    },
    "language_info": {
      "name": "python"
    }
  },
  "cells": [
    {
      "cell_type": "markdown",
      "metadata": {
        "id": "view-in-github",
        "colab_type": "text"
      },
      "source": [
        "<a href=\"https://colab.research.google.com/github/PosgradoMNA/actividades-del-proyecto-equipo_111/blob/main/Proyecto_final_Avance_1.ipynb\" target=\"_parent\"><img src=\"https://colab.research.google.com/assets/colab-badge.svg\" alt=\"Open In Colab\"/></a>"
      ]
    },
    {
      "cell_type": "markdown",
      "source": [
        "# Alfonso Garibay Flores\n",
        "# Marco Antonio Arellano Hernandez"
      ],
      "metadata": {
        "id": "WOHQIeXuxSbj"
      }
    },
    {
      "cell_type": "markdown",
      "source": [
        "**El nombre que caracteriza el conjunto de datos.**\n",
        "Titanic"
      ],
      "metadata": {
        "id": "Ia8vGPfsxkh1"
      }
    },
    {
      "cell_type": "markdown",
      "source": [
        "**La organización que lo generó.** Kaggle"
      ],
      "metadata": {
        "id": "M6xEr271yI4q"
      }
    },
    {
      "cell_type": "markdown",
      "source": [
        "**Incluya un enlace de Internet donde se puedan descargar el base de datos en línea** https://www.kaggle.com/datasets/heptapod/titanic"
      ],
      "metadata": {
        "id": "g7ocsUQQyK-Z"
      }
    },
    {
      "cell_type": "markdown",
      "source": [
        "**Describe el conjunto de datos. ¿Qué datos contiene?** Contiene la información de los pasajeros del Titanic como nombre, edad, genero, estado socio económico, numero de hermanas o hermanos abordo, numero de padre e hijos abordo, identificador de ticket, precio pagado por boleto, identificador de cabina, puerto en el que embarcó. "
      ],
      "metadata": {
        "id": "urMmMYjqyNZv"
      }
    },
    {
      "cell_type": "markdown",
      "source": [
        "**¿Cuáles son algunas de las preguntas de investigación que podría responder con estos datos? Enumere al menos OCHO (no responda las preguntas).**\n",
        "\n",
        "*   Si la edad es un factor importante para la supervivencia. \n",
        "*   Si el género es un factor importante para la supervivencia.\n",
        "*   Si el estado socio economico es un factor importante para la supervivencia.\n",
        "*   Si el numero de hermanas o hermanos es factor importante para la supervivencia.\n",
        "*   Si el numeor de padres e hijos abordo es factor importante para la supervivencia\n",
        "*   Si el precio pagado por boleto es factor importante para la supervivencia.\n",
        "*   Si la cabina es factor importante para la supervivencia.\n",
        "*   Si el puerto del que embarcó es importante para la supervivencia.\n",
        "\n"
      ],
      "metadata": {
        "id": "3eXHZuhkyOTt"
      }
    },
    {
      "cell_type": "markdown",
      "source": [
        "**¿Qué actor (empresa, sector de la sociedad, organismo descentralizado, gobierno, etc.) estaría interesado en las preguntas mencionadas que identificó?** Podría ser de ayuda para alguna empresa en** la industria de los cruceros** para tomar decisiones acerca de seguridad para sus cruceros."
      ],
      "metadata": {
        "id": "nDPWzGc-yQu3"
      }
    }
  ]
}
